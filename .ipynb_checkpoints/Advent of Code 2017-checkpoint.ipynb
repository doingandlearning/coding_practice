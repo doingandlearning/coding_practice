{
 "cells": [
  {
   "cell_type": "markdown",
   "metadata": {},
   "source": [
    "# Advent of Code 2017\n",
    "\n",
    "## Day 1\n",
    "### Part 1"
   ]
  },
  {
   "cell_type": "code",
   "execution_count": 37,
   "metadata": {
    "collapsed": false
   },
   "outputs": [
    {
     "name": "stdout",
     "output_type": "stream",
     "text": [
      "This should be 3: 3\n",
      "This should be 4: 4\n",
      "This should be 0: 0\n",
      "This should be 9: 9\n",
      "The answer is: 1158\n"
     ]
    }
   ],
   "source": [
    "input_string = 3294199471327195994824832197564859876682638188889768298894243832665654681412886862234525991553276578641265589959178414218389329361496673991614673626344552179413995562266818138372393213966143124914469397692587251112663217862879233226763533911128893354536353213847122251463857894159819828724827969576432191847787772732881266875469721189331882228146576832921314638221317393256471998598117289632684663355273845983933845721713497811766995367795857965222183668765517454263354111134841334631345111596131682726196574763165187889337599583345634413436165539744188866156771585647718555182529936669683581662398618765391487164715724849894563314426959348119286955144439452731762666568741612153254469131724137699832984728937865956711925592628456617133695259554548719328229938621332325125972547181236812263887375866231118312954369432937359357266467383318326239572877314765121844831126178173988799765218913178825966268816476559792947359956859989228917136267178571776316345292573489873792149646548747995389669692188457724414468727192819919448275922166321158141365237545222633688372891451842434458527698774342111482498999383831492577615154591278719656798277377363284379468757998373193231795767644654155432692988651312845433511879457921638934877557575241394363721667237778962455961493559848522582413748218971212486373232795878362964873855994697149692824917183375545192119453587398199912564474614219929345185468661129966379693813498542474732198176496694746111576925715493967296487258237854152382365579876894391815759815373319159213475555251488754279888245492373595471189191353244684697662848376529881512529221627313527441221459672786923145165989611223372241149929436247374818467481641931872972582295425936998535194423916544367799522276914445231582272368388831834437562752119325286474352863554693373718848649568451797751926315617575295381964426843625282819524747119726872193569785611959896776143539915299968276374712996485367853494734376257511273443736433464496287219615697341973131715166768916149828396454638596713572963686159214116763\n",
    "\n",
    "def circ_sum(target):\n",
    "    total = 0\n",
    "    target = map(int, str(target))\n",
    "    for i in range(0,len(target)-1):\n",
    "        if target[i]==target[i+1]:\n",
    "            total +=target[i]\n",
    "    if target[len(target)-1]==target[0]:\n",
    "        total+=target[0]\n",
    "    return total\n",
    "        \n",
    "\n",
    "print(\"This should be 3: {}\".format(circ_sum(1122))) \n",
    "print(\"This should be 4: {}\".format(circ_sum(1111)))\n",
    "print(\"This should be 0: {}\".format(circ_sum(1234)))\n",
    "print(\"This should be 9: {}\".format(circ_sum(91212129)))\n",
    "print(\"The answer is: {}\".format(circ_sum(input_string)))"
   ]
  },
  {
   "cell_type": "markdown",
   "metadata": {},
   "source": [
    "### Part 2"
   ]
  },
  {
   "cell_type": "code",
   "execution_count": 36,
   "metadata": {
    "collapsed": false
   },
   "outputs": [
    {
     "name": "stdout",
     "output_type": "stream",
     "text": [
      "6\n",
      "0\n",
      "4\n",
      "4\n",
      "12\n",
      "The answer is: 1132\n"
     ]
    }
   ],
   "source": [
    "def circ_sum_step(target):\n",
    "    total = 0\n",
    "    target = map(int, str(target))\n",
    "    step = len(target)/2\n",
    "    for i in range(len(target)-1):\n",
    "        if (i + step) < len(target):\n",
    "            if target[i]==target[i+step]:\n",
    "                total +=target[i]\n",
    "        else:\n",
    "            if target[i]==target[i-step]:\n",
    "                total +=target[i]\n",
    "    if target[len(target)-1]==target[step-1]:\n",
    "        total+=target[step-1]\n",
    "    return total\n",
    "\n",
    "# Test cases\n",
    "\n",
    "print(circ_sum_step(1212)) # expect 6\n",
    "print(circ_sum_step(1221)) # expect 0\n",
    "print(circ_sum_step(12131415)) # expect 4\n",
    "\n",
    "# Noticing that there are errors when the step is an odd number ...\n",
    "# why?\n",
    "\n",
    "\n",
    "\n",
    "print(circ_sum_step(123425)) # expect 4\n",
    "# step = 3\n",
    "# i = 0, if(3)<6: if(1)==(4)\n",
    "# i = 1, if(4)<6: if(2)==(2) +2\n",
    "# i = 2, if(5)<6: if(3)==\n",
    "\n",
    "print(circ_sum_step(123123)) # expect 12\n",
    "\n",
    "\n",
    "# Apply\n",
    "print(\"The answer is: {}\".format(circ_sum_step(input_string)))\n"
   ]
  },
  {
   "cell_type": "markdown",
   "metadata": {},
   "source": [
    "I was noticing that my code was working when the step was an even number but not when it was odd.  It took me a while to spot my error but when I worked it on paper I noticed thatI had used target[step-i] when I should have used target[i-step].  Fixed it and we were there.\n",
    "\n",
    "I struggled with the initial term as I was using input in the function, forgetting it was reserved.\n",
    "\n",
    "## Day 2\n",
    "### Part 1"
   ]
  },
  {
   "cell_type": "code",
   "execution_count": 18,
   "metadata": {
    "collapsed": false
   },
   "outputs": [
    {
     "name": "stdout",
     "output_type": "stream",
     "text": [
      "54426\n"
     ]
    }
   ],
   "source": [
    "filepath='input.txt'\n",
    "output = []\n",
    "with open(filepath) as fp:\n",
    "    for line in fp:\n",
    "        out = list(map(int,line.split()))\n",
    "        output.append(out)\n",
    "\n",
    "checksum=0\n",
    "for i in range(len(output)):\n",
    "    checksum += max(output[i])-min(output[i])\n",
    "print(checksum)\n",
    "        "
   ]
  },
  {
   "cell_type": "markdown",
   "metadata": {},
   "source": [
    "### Part 3"
   ]
  },
  {
   "cell_type": "code",
   "execution_count": 17,
   "metadata": {
    "collapsed": false
   },
   "outputs": [
    {
     "name": "stdout",
     "output_type": "stream",
     "text": [
      "333.0\n"
     ]
    }
   ],
   "source": [
    "div_sum = 0\n",
    "for i in range(len(output)):\n",
    "    for j in range(len(output[i])):\n",
    "        for k in range(len(output[j])):\n",
    "            if output[i][j]%output[i][k]==0 and j!=k:\n",
    "                div_sum += output[i][j]/output[i][k]\n",
    "print(div_sum)"
   ]
  },
  {
   "cell_type": "code",
   "execution_count": null,
   "metadata": {
    "collapsed": true
   },
   "outputs": [],
   "source": []
  }
 ],
 "metadata": {
  "anaconda-cloud": {},
  "kernelspec": {
   "display_name": "Python 3",
   "language": "python",
   "name": "python3"
  },
  "language_info": {
   "codemirror_mode": {
    "name": "ipython",
    "version": 3
   },
   "file_extension": ".py",
   "mimetype": "text/x-python",
   "name": "python",
   "nbconvert_exporter": "python",
   "pygments_lexer": "ipython3",
   "version": "3.6.3"
  }
 },
 "nbformat": 4,
 "nbformat_minor": 1
}
