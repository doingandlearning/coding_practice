{
 "cells": [
  {
   "cell_type": "markdown",
   "metadata": {},
   "source": [
    "# Binary search"
   ]
  },
  {
   "cell_type": "code",
   "execution_count": 4,
   "metadata": {
    "collapsed": false
   },
   "outputs": [
    {
     "name": "stdout",
     "output_type": "stream",
     "text": [
      "1\n",
      "6\n"
     ]
    }
   ],
   "source": [
    "from math import floor\n",
    "\n",
    "def binary_search(list, item):\n",
    "    low = 0\n",
    "    high =len(list)-1\n",
    "    \n",
    "    while low<=high:\n",
    "        mid = floor((low + high)/2)\n",
    "        guess = list[mid]\n",
    "        if guess == item:\n",
    "            return mid\n",
    "        if guess > item:\n",
    "            high = mid - 1\n",
    "        if guess < item:\n",
    "            low = mid + 1\n",
    "    return None\n",
    "\n",
    "my_list = [1,3,5,7,9,11,15]\n",
    "\n",
    "print (binary_search(my_list, 3))\n",
    "print (binary_search(my_list, 15))\n",
    "    "
   ]
  },
  {
   "cell_type": "markdown",
   "metadata": {
    "collapsed": true
   },
   "source": [
    "# Selection sort "
   ]
  },
  {
   "cell_type": "code",
   "execution_count": 1,
   "metadata": {
    "collapsed": false
   },
   "outputs": [
    {
     "name": "stdout",
     "output_type": "stream",
     "text": [
      "[2, 3, 5, 5, 10]\n"
     ]
    }
   ],
   "source": [
    "def find_smallest(arr):\n",
    "    smallest = arr[0]\n",
    "    smallest_index = 0\n",
    "    for i in range(1, len(arr)):\n",
    "        if arr[i] < smallest:\n",
    "            smallest = arr[i]\n",
    "            smallest_index = i\n",
    "    return smallest_index\n",
    "\n",
    "def selection_sort(arr):\n",
    "    newArr = []\n",
    "    for i in range(len(arr)):\n",
    "        smallest = find_smallest(arr)\n",
    "        newArr.append(arr.pop(smallest))\n",
    "    return newArr\n",
    "\n",
    "print (selection_sort([5,3,5,2,10]))"
   ]
  },
  {
   "cell_type": "markdown",
   "metadata": {
    "collapsed": true
   },
   "source": [
    "# Divide and Conquer -> Quicksort"
   ]
  },
  {
   "cell_type": "code",
   "execution_count": 3,
   "metadata": {
    "collapsed": false
   },
   "outputs": [
    {
     "name": "stdout",
     "output_type": "stream",
     "text": [
      "12\n"
     ]
    }
   ],
   "source": [
    "def sum(arr):\n",
    "    if len(arr)==0:\n",
    "        return 0\n",
    "    elif len(arr)==1:\n",
    "        return arr[0]\n",
    "    else:\n",
    "        return arr.pop(0)+sum(arr)\n",
    "    \n",
    "print(sum([2,4,6]))"
   ]
  },
  {
   "cell_type": "code",
   "execution_count": 10,
   "metadata": {
    "collapsed": false
   },
   "outputs": [
    {
     "name": "stdout",
     "output_type": "stream",
     "text": [
      "[1, 2, 3, 3, 5, 5, 7, 10, 14, 15, 17]\n"
     ]
    }
   ],
   "source": [
    "from random import choice\n",
    "\n",
    "def quick_sort(arr):\n",
    "    if len(arr)<2:\n",
    "        return arr\n",
    "    else:\n",
    "        pivot = arr.pop(choice(range(len(arr)))) #choosing a random pivot\n",
    "        less = [i for i in arr if i<=pivot]\n",
    "        more = [i for i in arr if i>pivot]\n",
    "        return quick_sort(less) + [pivot] + quick_sort(more)\n",
    "\n",
    "print(quick_sort([10,5,2,3,14,15,17,1,3,5,7]))"
   ]
  },
  {
   "cell_type": "code",
   "execution_count": null,
   "metadata": {
    "collapsed": true
   },
   "outputs": [],
   "source": []
  }
 ],
 "metadata": {
  "anaconda-cloud": {},
  "kernelspec": {
   "display_name": "Python 3",
   "language": "python",
   "name": "python3"
  },
  "language_info": {
   "codemirror_mode": {
    "name": "ipython",
    "version": 3
   },
   "file_extension": ".py",
   "mimetype": "text/x-python",
   "name": "python",
   "nbconvert_exporter": "python",
   "pygments_lexer": "ipython3",
   "version": "3.6.3"
  }
 },
 "nbformat": 4,
 "nbformat_minor": 1
}
